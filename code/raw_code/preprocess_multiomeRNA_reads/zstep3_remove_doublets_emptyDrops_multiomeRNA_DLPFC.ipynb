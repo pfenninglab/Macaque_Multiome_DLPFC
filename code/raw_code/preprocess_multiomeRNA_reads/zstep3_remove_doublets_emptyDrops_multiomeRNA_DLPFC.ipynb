{
 "cells": [
  {
   "cell_type": "code",
   "execution_count": 1,
   "id": "a2052791",
   "metadata": {},
   "outputs": [
    {
     "name": "stderr",
     "output_type": "stream",
     "text": [
      "Loading required package: SummarizedExperiment\n",
      "\n",
      "Loading required package: GenomicRanges\n",
      "\n",
      "Loading required package: stats4\n",
      "\n",
      "Loading required package: BiocGenerics\n",
      "\n",
      "Loading required package: parallel\n",
      "\n",
      "\n",
      "Attaching package: ‘BiocGenerics’\n",
      "\n",
      "\n",
      "The following objects are masked from ‘package:parallel’:\n",
      "\n",
      "    clusterApply, clusterApplyLB, clusterCall, clusterEvalQ,\n",
      "    clusterExport, clusterMap, parApply, parCapply, parLapply,\n",
      "    parLapplyLB, parRapply, parSapply, parSapplyLB\n",
      "\n",
      "\n",
      "The following objects are masked from ‘package:stats’:\n",
      "\n",
      "    IQR, mad, sd, var, xtabs\n",
      "\n",
      "\n",
      "The following objects are masked from ‘package:base’:\n",
      "\n",
      "    anyDuplicated, append, as.data.frame, basename, cbind, colnames,\n",
      "    dirname, do.call, duplicated, eval, evalq, Filter, Find, get, grep,\n",
      "    grepl, intersect, is.unsorted, lapply, Map, mapply, match, mget,\n",
      "    order, paste, pmax, pmax.int, pmin, pmin.int, Position, rank,\n",
      "    rbind, Reduce, rownames, sapply, setdiff, sort, table, tapply,\n",
      "    union, unique, unsplit, which, which.max, which.min\n",
      "\n",
      "\n",
      "Loading required package: S4Vectors\n",
      "\n",
      "\n",
      "Attaching package: ‘S4Vectors’\n",
      "\n",
      "\n",
      "The following object is masked from ‘package:base’:\n",
      "\n",
      "    expand.grid\n",
      "\n",
      "\n",
      "Loading required package: IRanges\n",
      "\n",
      "Loading required package: GenomeInfoDb\n",
      "\n",
      "Loading required package: Biobase\n",
      "\n",
      "Welcome to Bioconductor\n",
      "\n",
      "    Vignettes contain introductory material; view with\n",
      "    'browseVignettes()'. To cite Bioconductor, see\n",
      "    'citation(\"Biobase\")', and for packages 'citation(\"pkgname\")'.\n",
      "\n",
      "\n",
      "Loading required package: DelayedArray\n",
      "\n",
      "Loading required package: matrixStats\n",
      "\n",
      "\n",
      "Attaching package: ‘matrixStats’\n",
      "\n",
      "\n",
      "The following objects are masked from ‘package:Biobase’:\n",
      "\n",
      "    anyMissing, rowMedians\n",
      "\n",
      "\n",
      "Loading required package: BiocParallel\n",
      "\n",
      "\n",
      "Attaching package: ‘DelayedArray’\n",
      "\n",
      "\n",
      "The following objects are masked from ‘package:matrixStats’:\n",
      "\n",
      "    colMaxs, colMins, colRanges, rowMaxs, rowMins, rowRanges\n",
      "\n",
      "\n",
      "The following objects are masked from ‘package:base’:\n",
      "\n",
      "    aperm, apply, rowsum\n",
      "\n",
      "\n",
      "\n",
      "Attaching package: ‘Seurat’\n",
      "\n",
      "\n",
      "The following object is masked from ‘package:SummarizedExperiment’:\n",
      "\n",
      "    Assays\n",
      "\n",
      "\n",
      "\n",
      "Attaching package: ‘Matrix’\n",
      "\n",
      "\n",
      "The following object is masked from ‘package:S4Vectors’:\n",
      "\n",
      "    expand\n",
      "\n",
      "\n"
     ]
    }
   ],
   "source": [
    "library(scds)\n",
    "library(SingleCellExperiment)\n",
    "library(DropletUtils)\n",
    "library(Seurat)\n",
    "library(Matrix)\n",
    "\n",
    "ss <- function(x, pattern, slot = 1, ...) { \n",
    "  sapply(strsplit(x = x, split = pattern, ...), '[', slot) }\n",
    "options(stringsAsFactors = F)\n",
    "options(repr.plot.width=11, repr.plot.height=8.5)"
   ]
  },
  {
   "cell_type": "code",
   "execution_count": 9,
   "id": "64f9cc05",
   "metadata": {},
   "outputs": [],
   "source": [
    "# read in srna-seq matrix files, these folders should have a barcodes.tsv, genes.tsv, and matrix.mtx files\n",
    "STARsoloDIR= '../../../data/raw_data/STARsolo_out'\n",
    "STARsolo_fn = file.path(STARsoloDIR, c(\"London_DLPFC-1.Solo.out\", \"Memphis_DLPFC-1.Solo.out\"), 'GeneFull/filtered')\n",
    "names(STARsolo_fn) = c(\"London_DLPFC-1\", \"Memphis_DLPFC-1\")\n",
    "sce <- read10xCounts(STARsolo_fn, version = '3')"
   ]
  },
  {
   "cell_type": "markdown",
   "id": "b231442a",
   "metadata": {},
   "source": [
    "# Infer doublets w/ SCDS algorithm"
   ]
  },
  {
   "cell_type": "code",
   "execution_count": 12,
   "id": "41e93ee2",
   "metadata": {},
   "outputs": [
    {
     "name": "stdout",
     "output_type": "stream",
     "text": [
      "[08:25:03] WARNING: amalgamation/../src/learner.cc:1095: Starting in XGBoost 1.3.0, the default evaluation metric used with the objective 'binary:logistic' was changed from 'error' to 'logloss'. Explicitly set eval_metric if you'd like to restore the old behavior.\n"
     ]
    }
   ],
   "source": [
    "sce <- cxds_bcds_hybrid(sce,list(\"retRes\"=TRUE))"
   ]
  },
  {
   "cell_type": "code",
   "execution_count": 14,
   "id": "8ee7275c",
   "metadata": {},
   "outputs": [
    {
     "data": {
      "text/plain": [
       "DataFrame with 33841 rows and 5 columns\n",
       "               Sample          Barcode       cxds_score           bcds_score\n",
       "          <character>      <character>        <numeric>            <numeric>\n",
       "1      London_DLPFC-1 AAACAGCCAACCGCCA 43378.3603333041  0.00318628735840321\n",
       "2      London_DLPFC-1 AAACAGCCACTGGCTG 269062.923709876   0.0493841283023357\n",
       "3      London_DLPFC-1 AAACAGCCACTTAACG 659909.246677727    0.955575585365295\n",
       "4      London_DLPFC-1 AAACAGCCAGGACCAA 170211.659049272  0.00540034472942352\n",
       "5      London_DLPFC-1 AAACAGCCAGGCGAGT 24040.7114497954  0.00221745599992573\n",
       "...               ...              ...              ...                  ...\n",
       "33837 Memphis_DLPFC-1 TTTGTTGGTATTTGGG 87683.5878403367 0.000911889248527586\n",
       "33838 Memphis_DLPFC-1 TTTGTTGGTGAAACAA  93974.168596278  0.00469867093488574\n",
       "33839 Memphis_DLPFC-1 TTTGTTGGTGACCTGG 48576.4302630521  0.00168665987439454\n",
       "33840 Memphis_DLPFC-1 TTTGTTGGTGATGAGG 35635.8516505646 0.000922617386095226\n",
       "33841 Memphis_DLPFC-1 TTTGTTGGTTGCATCT 95905.7514580878    0.041076734662056\n",
       "            hybrid_score\n",
       "               <numeric>\n",
       "1     0.0602539891227986\n",
       "2      0.406646947478486\n",
       "3       1.83628829305203\n",
       "4       0.23107335007807\n",
       "5     0.0335760135035845\n",
       "...                  ...\n",
       "33837  0.116863407179411\n",
       "33838  0.129028408462817\n",
       "33839 0.0656575326223304\n",
       "33840 0.0476886656254283\n",
       "33841  0.168131008088815"
      ]
     },
     "metadata": {},
     "output_type": "display_data"
    },
    {
     "data": {
      "text/plain": [
       "\n",
       "inferred doublet          OK cell \n",
       "            3030            30811 "
      ]
     },
     "metadata": {},
     "output_type": "display_data"
    }
   ],
   "source": [
    "colData(sce)\n",
    "table(ifelse(colData(sce)$hybrid_score < 1.0, 'OK cell', 'inferred doublet'))"
   ]
  },
  {
   "cell_type": "code",
   "execution_count": 17,
   "id": "3332c9d8",
   "metadata": {},
   "outputs": [],
   "source": [
    "sce = sce[, colData(sce)$hybrid_score < 1.0 ]\n",
    "sce_fn = file.path('../../../data/tidy_data/rdas', 'raw_multiomeRNA_DLPFC_sce.rds')\n",
    "saveRDS(sce, sce_fn)"
   ]
  },
  {
   "cell_type": "code",
   "execution_count": null,
   "id": "d1ec60be",
   "metadata": {},
   "outputs": [],
   "source": []
  }
 ],
 "metadata": {
  "kernelspec": {
   "display_name": "R",
   "language": "R",
   "name": "ir"
  },
  "language_info": {
   "codemirror_mode": "r",
   "file_extension": ".r",
   "mimetype": "text/x-r-source",
   "name": "R",
   "pygments_lexer": "r",
   "version": "3.6.3"
  }
 },
 "nbformat": 4,
 "nbformat_minor": 5
}
