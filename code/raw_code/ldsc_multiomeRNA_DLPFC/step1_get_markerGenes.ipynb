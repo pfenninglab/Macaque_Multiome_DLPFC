{
 "cells": [
  {
   "cell_type": "markdown",
   "id": "5612a049-239f-4c7d-a7ec-d4658def04c6",
   "metadata": {},
   "source": [
    "Mike Leone 3/27/23\n",
    "Conda environment: Mike's \"r4\"\n",
    "\n",
    "-finds gene markers for each cell type and saves lists of genes for each cell type to a directory of csvs (foregrounds)\n",
    "-finds genes with non-zero expression and saves csv list of genes to directory (background)\n",
    "-code and output of converting these lists of genes to intron and flank coordinates is found within output directories of this notebook\n",
    "\n",
    "Step 1: Run the code blocks below to create csv lists of genes\n",
    "\n",
    "Step 2: In terminal, cd to BACKGROUND_DIR and clone repo: git clone https://github.com/chaitanyasrinivasan/bioinfotools\n",
    "Step 3: Move code to BACKGROUND_DIR: cd bioinfotools; mv * ../; cd ..; rm -r bioinfotools\n",
    "Step 4: In terminal, cd to FOREGROUND_DIR and clone repo: git clone https://github.com/chaitanyasrinivasan/bioinfotools\n",
    "Step 5: Move code to FOREGROUND_DIR: cd bioinfotools; mv * ../; cd ..; rm -r bioinfotools\n"
   ]
  },
  {
   "cell_type": "code",
   "execution_count": null,
   "id": "2497c12d-33ce-49cd-863e-8280bc041de0",
   "metadata": {
    "tags": []
   },
   "outputs": [],
   "source": [
    "library(SingleCellExperiment)\n",
    "library(tidyverse)\n",
    "library(here)\n",
    "library(scater)\n",
    "library(scran)\n",
    "\n",
    "library(Seurat)\n",
    "library(SeuratDisk)\n",
    "library(SeuratData)\n",
    "\n",
    "OUTDIR = '/projects/pfenninggroup/singleCell/Macaque_Multiome_DLPFC/data/tidy_data/ldsc_multiomeRNA_DLPFC/'\n",
    "FOREGROUND_OUTDIR = paste0(OUTDIR, 'marker_gene_inputs_to_ldsc/foreground/')\n",
    "BACKGROUND_OUTDIR = paste0(OUTDIR, 'marker_gene_inputs_to_ldsc/background/')"
   ]
  },
  {
   "cell_type": "code",
   "execution_count": null,
   "id": "6563ebfd-fd34-4c68-a9a5-a1bd4bea7308",
   "metadata": {
    "tags": []
   },
   "outputs": [],
   "source": [
    "# load dataset as SingleCellExperiment\n",
    "sce_path = '/projects/pfenninggroup/singleCell/Macaque_Multiome_DLPFC/data/tidy_data/rdas/JH_PFC_LabeledNuclei_20220104/all_nuclei_final.h5Seurat'\n",
    "sce = as.SingleCellExperiment(LoadH5Seurat(sce_path))"
   ]
  },
  {
   "cell_type": "code",
   "execution_count": null,
   "id": "ee2198d9-8910-4e97-8682-292f5d4b0ac8",
   "metadata": {
    "tags": []
   },
   "outputs": [],
   "source": [
    "# get genes that have non-zero expression (logcounts > 0)\n",
    "genes_any_expression = rownames(sce[rowSums(logcounts(sce)) > 0,] )\n",
    "print(length(genes_any_expression))\n",
    "print(length(rownames(sce)))\n",
    "\n",
    "df_background <- data.frame(genes_any_expression)\n",
    "colnames(df_background) <- c(genes_any_expression[1])\n",
    "filename = paste0(BACKGROUND_OUTDIR,'all_genes.csv')\n",
    "\n",
    "write.csv(df_background,file=filename, row.names=FALSE)"
   ]
  },
  {
   "cell_type": "code",
   "execution_count": null,
   "id": "d6dd66b5-4c6d-4d38-9ca4-373d5ca7bdd3",
   "metadata": {},
   "outputs": [],
   "source": [
    "# Get marker genes for celltype\n",
    "markers <- scran::findMarkers(\n",
    "  sce, groups = sce$cell_type2, \n",
    "  pval.type = \"some\", direction = \"up\"\n",
    ")"
   ]
  },
  {
   "cell_type": "code",
   "execution_count": 31,
   "id": "92b6adbe-f9d2-460d-adc8-e039c01b3ae8",
   "metadata": {
    "collapsed": true,
    "jupyter": {
     "outputs_hidden": true
    },
    "tags": []
   },
   "outputs": [
    {
     "name": "stdout",
     "output_type": "stream",
     "text": [
      "[1] \"L2.CUX2.MEIS2\"\n",
      "[1] 738\n",
      "[1] \"\"\n",
      "[1] \"L3.CUX2.RORB\"\n",
      "[1] 578\n",
      "[1] \"\"\n",
      "[1] \"L4.5.TBX15\"\n",
      "[1] 541\n",
      "[1] \"\"\n",
      "[1] \"L4.ALPL\"\n",
      "[1] 639\n",
      "[1] \"\"\n",
      "[1] \"L4.TYR\"\n",
      "[1] 608\n",
      "[1] \"\"\n",
      "[1] \"L5.6.NR4A2\"\n",
      "[1] 497\n",
      "[1] \"\"\n",
      "[1] \"L5.PCP4\"\n",
      "[1] 551\n",
      "[1] \"\"\n",
      "[1] \"L5.POU3F1\"\n",
      "[1] 616\n",
      "[1] \"\"\n",
      "[1] \"L6.ITGA8\"\n",
      "[1] 622\n",
      "[1] \"\"\n",
      "[1] \"L6.NKD1\"\n",
      "[1] 581\n",
      "[1] \"\"\n",
      "[1] \"L6.SYT6\"\n",
      "[1] 505\n",
      "[1] \"\"\n",
      "[1] \"LAMP5\"\n",
      "[1] 602\n",
      "[1] \"\"\n",
      "[1] \"NDNF\"\n",
      "[1] 650\n",
      "[1] \"\"\n",
      "[1] \"PV.BC\"\n",
      "[1] 553\n",
      "[1] \"\"\n",
      "[1] \"PV.ChC\"\n",
      "[1] 513\n",
      "[1] \"\"\n",
      "[1] \"SST\"\n",
      "[1] 626\n",
      "[1] \"\"\n",
      "[1] \"TH\"\n",
      "[1] 411\n",
      "[1] \"\"\n",
      "[1] \"VIP\"\n",
      "[1] 756\n",
      "[1] \"\"\n",
      "[1] \"Astro\"\n",
      "[1] 809\n",
      "[1] \"\"\n",
      "[1] \"Endo\"\n",
      "[1] 1179\n",
      "[1] \"\"\n",
      "[1] \"Oligo\"\n",
      "[1] 754\n",
      "[1] \"\"\n",
      "[1] \"OPC\"\n",
      "[1] 917\n",
      "[1] \"\"\n",
      "[1] \"Microglia\"\n",
      "[1] 908\n",
      "[1] \"\"\n"
     ]
    }
   ],
   "source": [
    "for (ii in 1:length(markers) ){\n",
    "    \n",
    "    celltype = names(markers[ii])\n",
    "    sig_markers = markers[[ii]][markers[[ii]]$p.value < 0.05,]\n",
    "    genes = rownames(sig_markers)\n",
    "    \n",
    "    print(celltype)\n",
    "    ### shows number of marker genes. With pval.type = 'some', this looks to be about 25-50% of expressed genes\n",
    "    print(length(genes))\n",
    "    print('')\n",
    "\n",
    "    df_foreground <- data.frame(genes)\n",
    "    colnames(df_foreground) <- c(genes[1])\n",
    "    \n",
    "    filename = paste0(FOREGROUND_OUTDIR,celltype,'.csv')\n",
    "    write.csv(df_foreground,file=filename, row.names=FALSE)\n",
    "    \n",
    "}"
   ]
  },
  {
   "cell_type": "code",
   "execution_count": null,
   "id": "41b5289a-356a-41ef-af87-ce2ab4149baf",
   "metadata": {},
   "outputs": [],
   "source": []
  }
 ],
 "metadata": {
  "kernelspec": {
   "display_name": "R",
   "language": "R",
   "name": "ir"
  },
  "language_info": {
   "codemirror_mode": "r",
   "file_extension": ".r",
   "mimetype": "text/x-r-source",
   "name": "R",
   "pygments_lexer": "r",
   "version": "4.1.2"
  }
 },
 "nbformat": 4,
 "nbformat_minor": 5
}
